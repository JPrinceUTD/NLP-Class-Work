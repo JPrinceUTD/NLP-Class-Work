{
  "nbformat": 4,
  "nbformat_minor": 0,
  "metadata": {
    "colab": {
      "provenance": []
    },
    "kernelspec": {
      "name": "python3",
      "display_name": "Python 3"
    },
    "language_info": {
      "name": "python"
    }
  },
  "cells": [
    {
      "cell_type": "code",
      "source": [
        "# Imports\n",
        "from google.colab import drive\n",
        "import pandas as pd\n",
        "import seaborn as sns\n",
        "from sklearn.model_selection import train_test_split\n",
        "from sklearn.feature_extraction.text import CountVectorizer\n",
        "import tensorflow\n",
        "from tensorflow.keras.utils import to_categorical\n",
        "from tensorflow.keras import datasets, layers, models, preprocessing"
      ],
      "metadata": {
        "id": "A3694qTNG_Ah"
      },
      "execution_count": 1,
      "outputs": []
    },
    {
      "cell_type": "code",
      "execution_count": 2,
      "metadata": {
        "id": "IarVRLpGR-Nq",
        "colab": {
          "base_uri": "https://localhost:8080/"
        },
        "outputId": "2a7e4346-b087-41c9-db87-c187aae9e901"
      },
      "outputs": [
        {
          "output_type": "stream",
          "name": "stdout",
          "text": [
            "Drive already mounted at /content/drive; to attempt to forcibly remount, call drive.mount(\"/content/drive\", force_remount=True).\n"
          ]
        }
      ],
      "source": [
        "drive.mount('/content/drive')"
      ]
    },
    {
      "cell_type": "code",
      "source": [
        "# Import Kaggle dataset\n",
        "reviewsDF = pd.read_csv('/content/drive/MyDrive/cleaned_reviews.csv')\n",
        "reviewsDF = reviewsDF.dropna()    # Drop empty rows\n",
        "reviewsDF['sentiments'].replace(['negative', 'neutral', 'positive'], [0, 1, 2], inplace=True)   # Convert sentiments (target) into numerical values\n",
        "reviewsDF = reviewsDF.drop('cleaned_review_length', axis=1)   # Drop cleaned review length column\n",
        "reviewsDF = reviewsDF.drop('review_score', axis=1)    # Drop review score column\n",
        "display(reviewsDF.head())\n",
        "reviewsDF.count()"
      ],
      "metadata": {
        "colab": {
          "base_uri": "https://localhost:8080/",
          "height": 258
        },
        "id": "UpMvybMTxJ1z",
        "outputId": "75320352-0822-4fef-bfa1-3af743fcb2d7"
      },
      "execution_count": 3,
      "outputs": [
        {
          "output_type": "display_data",
          "data": {
            "text/plain": [
              "   sentiments                                     cleaned_review\n",
              "0           2  i wish would have gotten one earlier love it a...\n",
              "1           1  i ve learned this lesson again open the packag...\n",
              "2           1          it is so slow and lags find better option\n",
              "3           1  roller ball stopped working within months of m...\n",
              "4           1  i like the color and size but it few days out ..."
            ],
            "text/html": [
              "\n",
              "  <div id=\"df-1710649e-705e-4431-b35a-1fc9ac6f1654\">\n",
              "    <div class=\"colab-df-container\">\n",
              "      <div>\n",
              "<style scoped>\n",
              "    .dataframe tbody tr th:only-of-type {\n",
              "        vertical-align: middle;\n",
              "    }\n",
              "\n",
              "    .dataframe tbody tr th {\n",
              "        vertical-align: top;\n",
              "    }\n",
              "\n",
              "    .dataframe thead th {\n",
              "        text-align: right;\n",
              "    }\n",
              "</style>\n",
              "<table border=\"1\" class=\"dataframe\">\n",
              "  <thead>\n",
              "    <tr style=\"text-align: right;\">\n",
              "      <th></th>\n",
              "      <th>sentiments</th>\n",
              "      <th>cleaned_review</th>\n",
              "    </tr>\n",
              "  </thead>\n",
              "  <tbody>\n",
              "    <tr>\n",
              "      <th>0</th>\n",
              "      <td>2</td>\n",
              "      <td>i wish would have gotten one earlier love it a...</td>\n",
              "    </tr>\n",
              "    <tr>\n",
              "      <th>1</th>\n",
              "      <td>1</td>\n",
              "      <td>i ve learned this lesson again open the packag...</td>\n",
              "    </tr>\n",
              "    <tr>\n",
              "      <th>2</th>\n",
              "      <td>1</td>\n",
              "      <td>it is so slow and lags find better option</td>\n",
              "    </tr>\n",
              "    <tr>\n",
              "      <th>3</th>\n",
              "      <td>1</td>\n",
              "      <td>roller ball stopped working within months of m...</td>\n",
              "    </tr>\n",
              "    <tr>\n",
              "      <th>4</th>\n",
              "      <td>1</td>\n",
              "      <td>i like the color and size but it few days out ...</td>\n",
              "    </tr>\n",
              "  </tbody>\n",
              "</table>\n",
              "</div>\n",
              "      <button class=\"colab-df-convert\" onclick=\"convertToInteractive('df-1710649e-705e-4431-b35a-1fc9ac6f1654')\"\n",
              "              title=\"Convert this dataframe to an interactive table.\"\n",
              "              style=\"display:none;\">\n",
              "        \n",
              "  <svg xmlns=\"http://www.w3.org/2000/svg\" height=\"24px\"viewBox=\"0 0 24 24\"\n",
              "       width=\"24px\">\n",
              "    <path d=\"M0 0h24v24H0V0z\" fill=\"none\"/>\n",
              "    <path d=\"M18.56 5.44l.94 2.06.94-2.06 2.06-.94-2.06-.94-.94-2.06-.94 2.06-2.06.94zm-11 1L8.5 8.5l.94-2.06 2.06-.94-2.06-.94L8.5 2.5l-.94 2.06-2.06.94zm10 10l.94 2.06.94-2.06 2.06-.94-2.06-.94-.94-2.06-.94 2.06-2.06.94z\"/><path d=\"M17.41 7.96l-1.37-1.37c-.4-.4-.92-.59-1.43-.59-.52 0-1.04.2-1.43.59L10.3 9.45l-7.72 7.72c-.78.78-.78 2.05 0 2.83L4 21.41c.39.39.9.59 1.41.59.51 0 1.02-.2 1.41-.59l7.78-7.78 2.81-2.81c.8-.78.8-2.07 0-2.86zM5.41 20L4 18.59l7.72-7.72 1.47 1.35L5.41 20z\"/>\n",
              "  </svg>\n",
              "      </button>\n",
              "      \n",
              "  <style>\n",
              "    .colab-df-container {\n",
              "      display:flex;\n",
              "      flex-wrap:wrap;\n",
              "      gap: 12px;\n",
              "    }\n",
              "\n",
              "    .colab-df-convert {\n",
              "      background-color: #E8F0FE;\n",
              "      border: none;\n",
              "      border-radius: 50%;\n",
              "      cursor: pointer;\n",
              "      display: none;\n",
              "      fill: #1967D2;\n",
              "      height: 32px;\n",
              "      padding: 0 0 0 0;\n",
              "      width: 32px;\n",
              "    }\n",
              "\n",
              "    .colab-df-convert:hover {\n",
              "      background-color: #E2EBFA;\n",
              "      box-shadow: 0px 1px 2px rgba(60, 64, 67, 0.3), 0px 1px 3px 1px rgba(60, 64, 67, 0.15);\n",
              "      fill: #174EA6;\n",
              "    }\n",
              "\n",
              "    [theme=dark] .colab-df-convert {\n",
              "      background-color: #3B4455;\n",
              "      fill: #D2E3FC;\n",
              "    }\n",
              "\n",
              "    [theme=dark] .colab-df-convert:hover {\n",
              "      background-color: #434B5C;\n",
              "      box-shadow: 0px 1px 3px 1px rgba(0, 0, 0, 0.15);\n",
              "      filter: drop-shadow(0px 1px 2px rgba(0, 0, 0, 0.3));\n",
              "      fill: #FFFFFF;\n",
              "    }\n",
              "  </style>\n",
              "\n",
              "      <script>\n",
              "        const buttonEl =\n",
              "          document.querySelector('#df-1710649e-705e-4431-b35a-1fc9ac6f1654 button.colab-df-convert');\n",
              "        buttonEl.style.display =\n",
              "          google.colab.kernel.accessAllowed ? 'block' : 'none';\n",
              "\n",
              "        async function convertToInteractive(key) {\n",
              "          const element = document.querySelector('#df-1710649e-705e-4431-b35a-1fc9ac6f1654');\n",
              "          const dataTable =\n",
              "            await google.colab.kernel.invokeFunction('convertToInteractive',\n",
              "                                                     [key], {});\n",
              "          if (!dataTable) return;\n",
              "\n",
              "          const docLinkHtml = 'Like what you see? Visit the ' +\n",
              "            '<a target=\"_blank\" href=https://colab.research.google.com/notebooks/data_table.ipynb>data table notebook</a>'\n",
              "            + ' to learn more about interactive tables.';\n",
              "          element.innerHTML = '';\n",
              "          dataTable['output_type'] = 'display_data';\n",
              "          await google.colab.output.renderOutput(dataTable, element);\n",
              "          const docLink = document.createElement('div');\n",
              "          docLink.innerHTML = docLinkHtml;\n",
              "          element.appendChild(docLink);\n",
              "        }\n",
              "      </script>\n",
              "    </div>\n",
              "  </div>\n",
              "  "
            ]
          },
          "metadata": {}
        },
        {
          "output_type": "execute_result",
          "data": {
            "text/plain": [
              "sentiments        17337\n",
              "cleaned_review    17337\n",
              "dtype: int64"
            ]
          },
          "metadata": {},
          "execution_count": 3
        }
      ]
    },
    {
      "cell_type": "code",
      "source": [
        "# Display graphical distribution of the target classes\n",
        "graph = sns.catplot(x=\"sentiments\", kind=\"count\", data=reviewsDF, height=5, aspect=1)"
      ],
      "metadata": {
        "colab": {
          "base_uri": "https://localhost:8080/",
          "height": 506
        },
        "id": "MFJypYLM16C9",
        "outputId": "21446b84-2f91-4d27-e7f7-d31f4306173c"
      },
      "execution_count": 4,
      "outputs": [
        {
          "output_type": "display_data",
          "data": {
            "text/plain": [
              "<Figure size 500x500 with 1 Axes>"
            ],
            "image/png": "[encoded data removed]"
          },
          "metadata": {}
        }
      ]
    },
    {
      "cell_type": "markdown",
      "source": [
        "This dataset contains scraped reviews from the Amazon site. The classes are as follows: negative (0 in graph), neural (1 in graph), and positive (2 in graph). This dataset is a medium-sized dataset with little over 17000 rows. The features of this dataset is the cleaned reviews. Based on the cleaned reviews, the model should be able to numerically determine the sentiment of a given review. The data looks to be heavily biased. Based on the above graph, there looks to be about 5 times as much positive reviews as there are negative reviews."
      ],
      "metadata": {
        "id": "AioHf9LQ3hpU"
      }
    },
    {
      "cell_type": "code",
      "source": [
        "# Divide data into X and y\n",
        "X = reviewsDF['cleaned_review']\n",
        "y = reviewsDF['sentiments']"
      ],
      "metadata": {
        "id": "BmRuXSI_sCc9"
      },
      "execution_count": 5,
      "outputs": []
    },
    {
      "cell_type": "code",
      "source": [
        "# Split data into train (80%) and test (20%) datasets\n",
        "X_train, X_test, y_train, y_test = train_test_split(X, y, test_size=0.2, train_size=0.8, random_state=789)"
      ],
      "metadata": {
        "id": "F-oQnp-Fsii3"
      },
      "execution_count": 6,
      "outputs": []
    },
    {
      "cell_type": "code",
      "source": [
        "# Count vectorizer\n",
        "vectorizer = CountVectorizer(min_df=0, lowercase=False)"
      ],
      "metadata": {
        "id": "3Cni8KBQcefU"
      },
      "execution_count": 7,
      "outputs": []
    },
    {
      "cell_type": "code",
      "source": [
        "# Apply count vectorizer\n",
        "vectorizer.fit(X_train)\n",
        "X_train = vectorizer.transform(X_train)\n",
        "X_test = vectorizer.transform(X_test)"
      ],
      "metadata": {
        "id": "jIziLFf1s2NL"
      },
      "execution_count": 8,
      "outputs": []
    },
    {
      "cell_type": "code",
      "source": [
        "# Convert label data to one-hot values\n",
        "y_train = to_categorical(y_train)\n",
        "y_test = to_categorical(y_test)"
      ],
      "metadata": {
        "id": "-lB-NhXDULi5"
      },
      "execution_count": 9,
      "outputs": []
    },
    {
      "cell_type": "markdown",
      "source": [
        "Sequential Model"
      ],
      "metadata": {
        "id": "K8NTiwOJGrNq"
      }
    },
    {
      "cell_type": "code",
      "source": [
        "# Build Sequential Keras model\n",
        "modelSeq = models.Sequential()\n",
        "modelSeq.add(layers.Dense(48, activation='relu', input_shape=(X_train.shape[1],)))\n",
        "modelSeq.add(layers.Dropout(0.1))    # Added to reduce overfitting\n",
        "modelSeq.add(layers.Dense(24, activation='relu'))\n",
        "modelSeq.add(layers.Dense(reviewsDF['sentiments'].nunique(), activation='softmax'))\n",
        "\n",
        "# Configure model for training\n",
        "modelSeq.compile(optimizer='rmsprop',\n",
        "              loss='categorical_crossentropy',\n",
        "              metrics=['accuracy'])\n",
        "\n",
        "# Train the model (I kept epochs low since after each epoch the accuracy looks to be fairly high and wanted to keep loss low after model evaluation)\n",
        "modelSeq.fit(X_train, y_train, epochs=5, verbose=0)\n",
        "\n",
        "# Evaluate the model\n",
        "result = modelSeq.evaluate(X_test, y_test, verbose=0)\n",
        "print('Test loss:', result[0])\n",
        "print('Test accuracy:', result[1])"
      ],
      "metadata": {
        "id": "FGgCwyxztXV4",
        "colab": {
          "base_uri": "https://localhost:8080/"
        },
        "outputId": "005d2cfc-cdcd-456f-b7be-5b4bddfe14ec"
      },
      "execution_count": 10,
      "outputs": [
        {
          "output_type": "stream",
          "name": "stdout",
          "text": [
            "Test loss: 0.4063616096973419\n",
            "Test accuracy: 0.8800461292266846\n"
          ]
        }
      ]
    },
    {
      "cell_type": "markdown",
      "source": [
        "RNN"
      ],
      "metadata": {
        "id": "Y0q7d5vPV2yE"
      }
    },
    {
      "cell_type": "code",
      "source": [
        "# pad the data\n",
        "#max_words = 500\n",
        "#X_train = preprocessing.sequence.pad_sequences(X_train.todense(), maxlen=max_words)\n",
        "#X_test = preprocessing.sequence.pad_sequences(X_test.todense(), maxlen=max_words)\n",
        "\n",
        "# Buid Sequential model with Embedding and SimpleRNN layers\n",
        "#modelRNN = models.Sequential()\n",
        "#modelRNN.add(layers.Embedding(10000, 32))\n",
        "#modelRNN.add(layers.SimpleRNN(32))\n",
        "#modelRNN.add(layers.Dense(reviewsDF['sentiments'].nunique(), activation='softmax'))\n",
        "\n",
        "#modelRNN.summary()"
      ],
      "metadata": {
        "id": "5Dm-nQ6pgy4U"
      },
      "execution_count": 11,
      "outputs": []
    },
    {
      "cell_type": "code",
      "source": [
        "# Configure model for training\n",
        "#modelRNN.compile(optimizer='rmsprop',\n",
        " #             loss='categorical_crossentropy',\n",
        "#              metrics=['accuracy'])\n",
        "\n",
        "# Train the model\n",
        "#modelRNN.fit(X_train, y_train, epochs=5, batch_size=128, verbose=0)\n",
        "\n",
        "# Evaluate the model\n",
        "#resultRNN = modelRNN.evaluate(X_test, y_test, verbose=0)\n",
        "#print('Test loss:', resultRNN[0])\n",
        "#print('Test accuracy:', resultRNN[1])"
      ],
      "metadata": {
        "id": "pZUViE5SV119"
      },
      "execution_count": 12,
      "outputs": []
    },
    {
      "cell_type": "markdown",
      "source": [
        "I got around 87% accuracy when I trained with Sequential model. I did not get time to try other models since CNN model and RNN model were erroring out on me and crashing in Google Colab."
      ],
      "metadata": {
        "id": "so-KSFTPqvG1"
      }
    }
  ]
}